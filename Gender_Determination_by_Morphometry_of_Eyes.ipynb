{
  "nbformat": 4,
  "nbformat_minor": 0,
  "metadata": {
    "colab": {
      "provenance": [],
      "authorship_tag": "ABX9TyPiaHe5aZxO4OYA5w6xLTbc",
      "include_colab_link": true
    },
    "kernelspec": {
      "name": "python3",
      "display_name": "Python 3"
    },
    "language_info": {
      "name": "python"
    },
    "accelerator": "GPU",
    "gpuClass": "standard"
  },
  "cells": [
    {
      "cell_type": "markdown",
      "metadata": {
        "id": "view-in-github",
        "colab_type": "text"
      },
      "source": [
        "<a href=\"https://colab.research.google.com/github/AbiemwenseMaureenOshobugie/DPhi/blob/main/Gender_Determination_by_Morphometry_of_Eyes.ipynb\" target=\"_parent\"><img src=\"https://colab.research.google.com/assets/colab-badge.svg\" alt=\"Open In Colab\"/></a>"
      ]
    },
    {
      "cell_type": "markdown",
      "source": [
        "# AI/ML Challenge - Gender Determination by Morphometry of Eyes\n",
        "\n",
        "Problem Statement\n",
        "\n",
        "The anthropometric analysis of the human face is an essential study for performing craniofacial plastic and reconstructive surgeries. Facial anthropometrics are affected by various factors such as age, gender, ethnicity, socioeconomic status, environment, and region.  \n",
        "\n",
        " \n",
        "\n",
        "Plastic surgeons who undertake the repair and reconstruction of facial deformities find the anatomical dimensions of the facial structures useful for their surgeries. These dimensions are a result of the Physical or Facial appearance of an individual. Along with factors like culture, personality, ethnic background, age; eye appearance and symmetry contributes majorly to the facial appearance or aesthetics. \n",
        "\n",
        " \n",
        "\n",
        "**Our objective is to build a model to scan the image of an eye of a patient and find if the gender of the patient is male or female**.\n",
        "\n",
        " The dataset contains eye pictures of males and females. The dataset can be downloaded from the below link.\n",
        "\n",
        " \n",
        "\n",
        "Dataset Link: https://drive.google.com/file/d/1f7uslI-ZHidriQFZR966_aILjlkgDN76/view?usp=sharing\n",
        "\n",
        "From the above link, you will be able to download a zip file named ‘eye_gender_data.zip’. After you extract this zip file, you will get four files:\n",
        "\n",
        "\n",
        "*  **train** - contains all the images that are to be used for training your model.\n",
        "\n",
        "*   **Training_set.csv** - this csv file has contains the labels for the training images\n",
        "\n",
        "*   **test** - contains 9000+ images. For these images you are required to make predictions\n",
        "\n",
        "*   **Testing_set.csv** - this is the order of the predictions for each image that is to be submitted on the platform. Make sure the predictions you submit are with their image’s filename in the same order as given in this file.\n",
        "\n",
        "*   **sample_submission.csv** - this is the sample submission file for the data sprint\n",
        "\n",
        "\n",
        "**Saving Prediction File & Sample Submission**\n",
        "\n",
        "You can find more details on how to save a prediction file here: https://discuss.dphi.tech/t/how-to-submit-predictions/548\n",
        "\n",
        " \n",
        "\n",
        "Sample submission: You should submit a CSV file with a header row and the sample submission can be found below:\n",
        "\n",
        " \n",
        "\n",
        "**label**\n",
        "\n",
        "male\n",
        "\n",
        "female\n",
        "\n",
        "female\n",
        "\n",
        "female\n",
        "\n",
        "male\n",
        "\n",
        "female\n",
        "\n",
        "male\n",
        "\n",
        "female\n",
        "\n",
        ".\n",
        "\n",
        ".\n",
        "\n",
        ".\n",
        "\n",
        "Etc.\n",
        "\n",
        "Note that the header name should be ‘label’ else it will throw an evaluation error.\n",
        "\n",
        " \n",
        "\n",
        "Getting Started Notebook\n",
        "\n",
        "Link: https://dphi.tech/notebooks/2866/dphi_official/5-week-deep-learning-bootcamp-final-assignment-getting-started-notebook\n",
        "\n",
        "\n",
        "Acknowledgement\n",
        "\n",
        "The dataset is sourced from Ruskino RU. We thank PavelBiz for this dataset.\n",
        "\n",
        "Resources\n",
        "\n",
        "[Sample Submission](https://s3.us-west-1.wasabisys.com/dphi/datasets/225/Sample_Submission.csv?AWSAccessKeyId=ABSZWDH67WW3G8YX40WD&Signature=WUQBtNrZF%2FZFWDoF8TsY1DAndJs%3D&Expires=1673977447)\n",
        "\n",
        "[Train Data](https://s3.us-west-1.wasabisys.com/dphi/datasets/225/Train_Data.csv?AWSAccessKeyId=ABSZWDH67WW3G8YX40WD&Signature=zUz3iD6aFIupuh0ASn3Jq067PYs%3D&Expires=1673977786)\n",
        "\n",
        "[Test Data](https://s3.us-west-1.wasabisys.com/dphi/datasets/225/Test_Data.csv?AWSAccessKeyId=ABSZWDH67WW3G8YX40WD&Signature=IkKwlNNCcNKwaj1UnOG6A4NxyIg%3D&Expires=1673977786)\n",
        "\n",
        "Submission guidelines\n",
        "\n",
        "1. Your predictions file must be a CSV and its first row i.e header field must be label\n",
        "\n",
        "2. You must upload .ipynb notebook file as a solution to the question\n",
        "\n",
        "Evaluation Metric\n",
        "\n",
        "Accuracy evaluation metric is used for evaluating model predictions\n",
        "\n",
        "Additional guidelines\n",
        "\n",
        "Submissions are evaluated using Accuracy Score and the score displayed on the leaderboard is 100 * Accuracy Score.\n",
        "\n",
        " \n",
        "\n",
        "**How do we do it?** \n",
        "\n",
        "Once we release the data, anyone can download it, build a model, and make a submission. We give competitors a set of data (training data), with both the independent and dependent variables.\n",
        "\n",
        "We also release another set of data (test dataset) with just the independent variables, and we hide the dependent variable that corresponds with this set. You submit the predicted values of the dependent variable for this set and we compare it against the actual values. \n",
        "\n",
        "The predictions are evaluated based on the evaluation metric defined in the datathon.\n",
        "\n",
        " \n",
        "\n",
        "*Note: Notebook submission is mandatory for every bootcampers in order to be eligible to receive the certificate*.\n",
        "\n"
      ],
      "metadata": {
        "id": "TrRSTbQJWTAj"
      }
    },
    {
      "cell_type": "markdown",
      "source": [
        "Import the required packages.\n"
      ],
      "metadata": {
        "id": "qUpLmAUs1hyD"
      }
    },
    {
      "cell_type": "code",
      "execution_count": 30,
      "metadata": {
        "id": "Dv_zAe5c1b-C"
      },
      "outputs": [],
      "source": [
        "import pandas as pd\n",
        "import numpy as np\n",
        "import matplotlib.pyplot as plt\n",
        "%matplotlib inline\n",
        "import os\n",
        "\n",
        "import tensorflow as tf\n",
        "from tensorflow import keras\n",
        "from tensorflow.keras.models import Sequential\n",
        "from tensorflow.keras.layers import Dense, Conv2D, MaxPool2D, Flatten, BatchNormalization, Activation\n",
        "from tensorflow.keras.optimizers import Adam\n",
        "from sklearn.metrics import accuracy_score\n",
        "from tensorflow.keras.preprocessing.image import ImageDataGenerator\n"
      ]
    },
    {
      "cell_type": "code",
      "source": [
        "!unzip -q eye_gender_data.zip\n"
      ],
      "metadata": {
        "colab": {
          "base_uri": "https://localhost:8080/"
        },
        "id": "1IrXBVnF5XqL",
        "outputId": "b1a96679-9770-4d55-89bb-f9fb39aef63c"
      },
      "execution_count": 31,
      "outputs": [
        {
          "output_type": "stream",
          "name": "stdout",
          "text": [
            "replace eye_gender_data/sample_submission.csv? [y]es, [n]o, [A]ll, [N]one, [r]ename: N\n"
          ]
        }
      ]
    },
    {
      "cell_type": "markdown",
      "source": [
        "Create paths for the Train and Test data"
      ],
      "metadata": {
        "id": "oO6mFduSAzNH"
      }
    },
    {
      "cell_type": "code",
      "source": [
        "train_path = \"/content/eye_gender_data/train\"\n",
        "test_path = \"/content/eye_gender_data/test\"\n"
      ],
      "metadata": {
        "id": "0k9_5Vu0Bomh"
      },
      "execution_count": 32,
      "outputs": []
    },
    {
      "cell_type": "markdown",
      "source": [
        "Plot a few images of train data.\n"
      ],
      "metadata": {
        "id": "1AJqqiWQ1tSN"
      }
    },
    {
      "cell_type": "code",
      "source": [
        "image_path = os.listdir(train_path)\n",
        "\n",
        "fig = plt.figure(figsize=(10,5))\n",
        "for e in range(len(image_path[:16])):\n",
        "  plt.subplot(2,8,e+1)\n",
        "  img = plt.imread(os.path.join(train_path,image_path[e]))\n",
        "  plt.imshow(img, cmap=plt.get_cmap('gray'))\n"
      ],
      "metadata": {
        "colab": {
          "base_uri": "https://localhost:8080/",
          "height": 259
        },
        "id": "7b8QnYez10_P",
        "outputId": "47f848aa-9943-4bed-fafd-4645f6fba337"
      },
      "execution_count": 33,
      "outputs": [
        {
          "output_type": "display_data",
          "data": {
            "text/plain": [
              "<Figure size 720x360 with 16 Axes>"
            ],
            "image/png": "[encoded data removed]"
          },
          "metadata": {
            "needs_background": "light"
          }
        }
      ]
    },
    {
      "cell_type": "markdown",
      "source": [
        "Load the Pandas DataFrame\n"
      ],
      "metadata": {
        "id": "GFGE4vay14JF"
      }
    },
    {
      "cell_type": "code",
      "source": [
        "train_df = pd.read_csv('/content/eye_gender_data/Training_set.csv')\n",
        "test_df = pd.read_csv('/content/eye_gender_data/Testing_set.csv')\n"
      ],
      "metadata": {
        "id": "5fjtG4Mz1-nt"
      },
      "execution_count": 34,
      "outputs": []
    },
    {
      "cell_type": "code",
      "source": [
        "print(len(train_df))\n",
        "train_df.head()\n"
      ],
      "metadata": {
        "colab": {
          "base_uri": "https://localhost:8080/",
          "height": 224
        },
        "id": "iuMSAwEt2DRC",
        "outputId": "d0b3d03d-fea1-4776-e46a-b17da90fe3a6"
      },
      "execution_count": 35,
      "outputs": [
        {
          "output_type": "stream",
          "name": "stdout",
          "text": [
            "9220\n"
          ]
        },
        {
          "output_type": "execute_result",
          "data": {
            "text/plain": [
              "      filename   label\n",
              "0  Image_1.jpg    male\n",
              "1  Image_2.jpg  female\n",
              "2  Image_3.jpg  female\n",
              "3  Image_4.jpg  female\n",
              "4  Image_5.jpg    male"
            ],
            "text/html": [
              "\n",
              "  <div id=\"df-d661be20-04ad-460b-b3fa-6a3e0decafde\">\n",
              "    <div class=\"colab-df-container\">\n",
              "      <div>\n",
              "<style scoped>\n",
              "    .dataframe tbody tr th:only-of-type {\n",
              "        vertical-align: middle;\n",
              "    }\n",
              "\n",
              "    .dataframe tbody tr th {\n",
              "        vertical-align: top;\n",
              "    }\n",
              "\n",
              "    .dataframe thead th {\n",
              "        text-align: right;\n",
              "    }\n",
              "</style>\n",
              "<table border=\"1\" class=\"dataframe\">\n",
              "  <thead>\n",
              "    <tr style=\"text-align: right;\">\n",
              "      <th></th>\n",
              "      <th>filename</th>\n",
              "      <th>label</th>\n",
              "    </tr>\n",
              "  </thead>\n",
              "  <tbody>\n",
              "    <tr>\n",
              "      <th>0</th>\n",
              "      <td>Image_1.jpg</td>\n",
              "      <td>male</td>\n",
              "    </tr>\n",
              "    <tr>\n",
              "      <th>1</th>\n",
              "      <td>Image_2.jpg</td>\n",
              "      <td>female</td>\n",
              "    </tr>\n",
              "    <tr>\n",
              "      <th>2</th>\n",
              "      <td>Image_3.jpg</td>\n",
              "      <td>female</td>\n",
              "    </tr>\n",
              "    <tr>\n",
              "      <th>3</th>\n",
              "      <td>Image_4.jpg</td>\n",
              "      <td>female</td>\n",
              "    </tr>\n",
              "    <tr>\n",
              "      <th>4</th>\n",
              "      <td>Image_5.jpg</td>\n",
              "      <td>male</td>\n",
              "    </tr>\n",
              "  </tbody>\n",
              "</table>\n",
              "</div>\n",
              "      <button class=\"colab-df-convert\" onclick=\"convertToInteractive('df-d661be20-04ad-460b-b3fa-6a3e0decafde')\"\n",
              "              title=\"Convert this dataframe to an interactive table.\"\n",
              "              style=\"display:none;\">\n",
              "        \n",
              "  <svg xmlns=\"http://www.w3.org/2000/svg\" height=\"24px\"viewBox=\"0 0 24 24\"\n",
              "       width=\"24px\">\n",
              "    <path d=\"M0 0h24v24H0V0z\" fill=\"none\"/>\n",
              "    <path d=\"M18.56 5.44l.94 2.06.94-2.06 2.06-.94-2.06-.94-.94-2.06-.94 2.06-2.06.94zm-11 1L8.5 8.5l.94-2.06 2.06-.94-2.06-.94L8.5 2.5l-.94 2.06-2.06.94zm10 10l.94 2.06.94-2.06 2.06-.94-2.06-.94-.94-2.06-.94 2.06-2.06.94z\"/><path d=\"M17.41 7.96l-1.37-1.37c-.4-.4-.92-.59-1.43-.59-.52 0-1.04.2-1.43.59L10.3 9.45l-7.72 7.72c-.78.78-.78 2.05 0 2.83L4 21.41c.39.39.9.59 1.41.59.51 0 1.02-.2 1.41-.59l7.78-7.78 2.81-2.81c.8-.78.8-2.07 0-2.86zM5.41 20L4 18.59l7.72-7.72 1.47 1.35L5.41 20z\"/>\n",
              "  </svg>\n",
              "      </button>\n",
              "      \n",
              "  <style>\n",
              "    .colab-df-container {\n",
              "      display:flex;\n",
              "      flex-wrap:wrap;\n",
              "      gap: 12px;\n",
              "    }\n",
              "\n",
              "    .colab-df-convert {\n",
              "      background-color: #E8F0FE;\n",
              "      border: none;\n",
              "      border-radius: 50%;\n",
              "      cursor: pointer;\n",
              "      display: none;\n",
              "      fill: #1967D2;\n",
              "      height: 32px;\n",
              "      padding: 0 0 0 0;\n",
              "      width: 32px;\n",
              "    }\n",
              "\n",
              "    .colab-df-convert:hover {\n",
              "      background-color: #E2EBFA;\n",
              "      box-shadow: 0px 1px 2px rgba(60, 64, 67, 0.3), 0px 1px 3px 1px rgba(60, 64, 67, 0.15);\n",
              "      fill: #174EA6;\n",
              "    }\n",
              "\n",
              "    [theme=dark] .colab-df-convert {\n",
              "      background-color: #3B4455;\n",
              "      fill: #D2E3FC;\n",
              "    }\n",
              "\n",
              "    [theme=dark] .colab-df-convert:hover {\n",
              "      background-color: #434B5C;\n",
              "      box-shadow: 0px 1px 3px 1px rgba(0, 0, 0, 0.15);\n",
              "      filter: drop-shadow(0px 1px 2px rgba(0, 0, 0, 0.3));\n",
              "      fill: #FFFFFF;\n",
              "    }\n",
              "  </style>\n",
              "\n",
              "      <script>\n",
              "        const buttonEl =\n",
              "          document.querySelector('#df-d661be20-04ad-460b-b3fa-6a3e0decafde button.colab-df-convert');\n",
              "        buttonEl.style.display =\n",
              "          google.colab.kernel.accessAllowed ? 'block' : 'none';\n",
              "\n",
              "        async function convertToInteractive(key) {\n",
              "          const element = document.querySelector('#df-d661be20-04ad-460b-b3fa-6a3e0decafde');\n",
              "          const dataTable =\n",
              "            await google.colab.kernel.invokeFunction('convertToInteractive',\n",
              "                                                     [key], {});\n",
              "          if (!dataTable) return;\n",
              "\n",
              "          const docLinkHtml = 'Like what you see? Visit the ' +\n",
              "            '<a target=\"_blank\" href=https://colab.research.google.com/notebooks/data_table.ipynb>data table notebook</a>'\n",
              "            + ' to learn more about interactive tables.';\n",
              "          element.innerHTML = '';\n",
              "          dataTable['output_type'] = 'display_data';\n",
              "          await google.colab.output.renderOutput(dataTable, element);\n",
              "          const docLink = document.createElement('div');\n",
              "          docLink.innerHTML = docLinkHtml;\n",
              "          element.appendChild(docLink);\n",
              "        }\n",
              "      </script>\n",
              "    </div>\n",
              "  </div>\n",
              "  "
            ]
          },
          "metadata": {},
          "execution_count": 35
        }
      ]
    },
    {
      "cell_type": "code",
      "source": [
        "train_df['label'].value_counts()\n"
      ],
      "metadata": {
        "colab": {
          "base_uri": "https://localhost:8080/"
        },
        "id": "Pcdsp7XzXcmJ",
        "outputId": "e4f2420a-def6-44e2-951b-1dbb1a8d1558"
      },
      "execution_count": 36,
      "outputs": [
        {
          "output_type": "execute_result",
          "data": {
            "text/plain": [
              "male      5058\n",
              "female    4162\n",
              "Name: label, dtype: int64"
            ]
          },
          "metadata": {},
          "execution_count": 36
        }
      ]
    },
    {
      "cell_type": "code",
      "source": [
        "train_df['target'] = train_df['label'].replace({'female': '0', 'male': '1'})\n",
        "train_df.head()\n"
      ],
      "metadata": {
        "colab": {
          "base_uri": "https://localhost:8080/",
          "height": 206
        },
        "id": "1-Iu1TIL2J9O",
        "outputId": "f0a5ef51-600e-4002-b1d6-bfa53e3f5470"
      },
      "execution_count": 37,
      "outputs": [
        {
          "output_type": "execute_result",
          "data": {
            "text/plain": [
              "      filename   label target\n",
              "0  Image_1.jpg    male      1\n",
              "1  Image_2.jpg  female      0\n",
              "2  Image_3.jpg  female      0\n",
              "3  Image_4.jpg  female      0\n",
              "4  Image_5.jpg    male      1"
            ],
            "text/html": [
              "\n",
              "  <div id=\"df-d4d23f14-7542-4fbe-8ed8-d539e191e786\">\n",
              "    <div class=\"colab-df-container\">\n",
              "      <div>\n",
              "<style scoped>\n",
              "    .dataframe tbody tr th:only-of-type {\n",
              "        vertical-align: middle;\n",
              "    }\n",
              "\n",
              "    .dataframe tbody tr th {\n",
              "        vertical-align: top;\n",
              "    }\n",
              "\n",
              "    .dataframe thead th {\n",
              "        text-align: right;\n",
              "    }\n",
              "</style>\n",
              "<table border=\"1\" class=\"dataframe\">\n",
              "  <thead>\n",
              "    <tr style=\"text-align: right;\">\n",
              "      <th></th>\n",
              "      <th>filename</th>\n",
              "      <th>label</th>\n",
              "      <th>target</th>\n",
              "    </tr>\n",
              "  </thead>\n",
              "  <tbody>\n",
              "    <tr>\n",
              "      <th>0</th>\n",
              "      <td>Image_1.jpg</td>\n",
              "      <td>male</td>\n",
              "      <td>1</td>\n",
              "    </tr>\n",
              "    <tr>\n",
              "      <th>1</th>\n",
              "      <td>Image_2.jpg</td>\n",
              "      <td>female</td>\n",
              "      <td>0</td>\n",
              "    </tr>\n",
              "    <tr>\n",
              "      <th>2</th>\n",
              "      <td>Image_3.jpg</td>\n",
              "      <td>female</td>\n",
              "      <td>0</td>\n",
              "    </tr>\n",
              "    <tr>\n",
              "      <th>3</th>\n",
              "      <td>Image_4.jpg</td>\n",
              "      <td>female</td>\n",
              "      <td>0</td>\n",
              "    </tr>\n",
              "    <tr>\n",
              "      <th>4</th>\n",
              "      <td>Image_5.jpg</td>\n",
              "      <td>male</td>\n",
              "      <td>1</td>\n",
              "    </tr>\n",
              "  </tbody>\n",
              "</table>\n",
              "</div>\n",
              "      <button class=\"colab-df-convert\" onclick=\"convertToInteractive('df-d4d23f14-7542-4fbe-8ed8-d539e191e786')\"\n",
              "              title=\"Convert this dataframe to an interactive table.\"\n",
              "              style=\"display:none;\">\n",
              "        \n",
              "  <svg xmlns=\"http://www.w3.org/2000/svg\" height=\"24px\"viewBox=\"0 0 24 24\"\n",
              "       width=\"24px\">\n",
              "    <path d=\"M0 0h24v24H0V0z\" fill=\"none\"/>\n",
              "    <path d=\"M18.56 5.44l.94 2.06.94-2.06 2.06-.94-2.06-.94-.94-2.06-.94 2.06-2.06.94zm-11 1L8.5 8.5l.94-2.06 2.06-.94-2.06-.94L8.5 2.5l-.94 2.06-2.06.94zm10 10l.94 2.06.94-2.06 2.06-.94-2.06-.94-.94-2.06-.94 2.06-2.06.94z\"/><path d=\"M17.41 7.96l-1.37-1.37c-.4-.4-.92-.59-1.43-.59-.52 0-1.04.2-1.43.59L10.3 9.45l-7.72 7.72c-.78.78-.78 2.05 0 2.83L4 21.41c.39.39.9.59 1.41.59.51 0 1.02-.2 1.41-.59l7.78-7.78 2.81-2.81c.8-.78.8-2.07 0-2.86zM5.41 20L4 18.59l7.72-7.72 1.47 1.35L5.41 20z\"/>\n",
              "  </svg>\n",
              "      </button>\n",
              "      \n",
              "  <style>\n",
              "    .colab-df-container {\n",
              "      display:flex;\n",
              "      flex-wrap:wrap;\n",
              "      gap: 12px;\n",
              "    }\n",
              "\n",
              "    .colab-df-convert {\n",
              "      background-color: #E8F0FE;\n",
              "      border: none;\n",
              "      border-radius: 50%;\n",
              "      cursor: pointer;\n",
              "      display: none;\n",
              "      fill: #1967D2;\n",
              "      height: 32px;\n",
              "      padding: 0 0 0 0;\n",
              "      width: 32px;\n",
              "    }\n",
              "\n",
              "    .colab-df-convert:hover {\n",
              "      background-color: #E2EBFA;\n",
              "      box-shadow: 0px 1px 2px rgba(60, 64, 67, 0.3), 0px 1px 3px 1px rgba(60, 64, 67, 0.15);\n",
              "      fill: #174EA6;\n",
              "    }\n",
              "\n",
              "    [theme=dark] .colab-df-convert {\n",
              "      background-color: #3B4455;\n",
              "      fill: #D2E3FC;\n",
              "    }\n",
              "\n",
              "    [theme=dark] .colab-df-convert:hover {\n",
              "      background-color: #434B5C;\n",
              "      box-shadow: 0px 1px 3px 1px rgba(0, 0, 0, 0.15);\n",
              "      filter: drop-shadow(0px 1px 2px rgba(0, 0, 0, 0.3));\n",
              "      fill: #FFFFFF;\n",
              "    }\n",
              "  </style>\n",
              "\n",
              "      <script>\n",
              "        const buttonEl =\n",
              "          document.querySelector('#df-d4d23f14-7542-4fbe-8ed8-d539e191e786 button.colab-df-convert');\n",
              "        buttonEl.style.display =\n",
              "          google.colab.kernel.accessAllowed ? 'block' : 'none';\n",
              "\n",
              "        async function convertToInteractive(key) {\n",
              "          const element = document.querySelector('#df-d4d23f14-7542-4fbe-8ed8-d539e191e786');\n",
              "          const dataTable =\n",
              "            await google.colab.kernel.invokeFunction('convertToInteractive',\n",
              "                                                     [key], {});\n",
              "          if (!dataTable) return;\n",
              "\n",
              "          const docLinkHtml = 'Like what you see? Visit the ' +\n",
              "            '<a target=\"_blank\" href=https://colab.research.google.com/notebooks/data_table.ipynb>data table notebook</a>'\n",
              "            + ' to learn more about interactive tables.';\n",
              "          element.innerHTML = '';\n",
              "          dataTable['output_type'] = 'display_data';\n",
              "          await google.colab.output.renderOutput(dataTable, element);\n",
              "          const docLink = document.createElement('div');\n",
              "          docLink.innerHTML = docLinkHtml;\n",
              "          element.appendChild(docLink);\n",
              "        }\n",
              "      </script>\n",
              "    </div>\n",
              "  </div>\n",
              "  "
            ]
          },
          "metadata": {},
          "execution_count": 37
        }
      ]
    },
    {
      "cell_type": "code",
      "source": [
        "test_df.head()\n"
      ],
      "metadata": {
        "colab": {
          "base_uri": "https://localhost:8080/",
          "height": 206
        },
        "id": "L_rA9kIs2PMH",
        "outputId": "6543080a-548f-4480-cbc6-329081897d08"
      },
      "execution_count": 38,
      "outputs": [
        {
          "output_type": "execute_result",
          "data": {
            "text/plain": [
              "      filename\n",
              "0  Image_1.jpg\n",
              "1  Image_2.jpg\n",
              "2  Image_3.jpg\n",
              "3  Image_4.jpg\n",
              "4  Image_5.jpg"
            ],
            "text/html": [
              "\n",
              "  <div id=\"df-25f61767-e569-409c-b1ee-600f26c5e4df\">\n",
              "    <div class=\"colab-df-container\">\n",
              "      <div>\n",
              "<style scoped>\n",
              "    .dataframe tbody tr th:only-of-type {\n",
              "        vertical-align: middle;\n",
              "    }\n",
              "\n",
              "    .dataframe tbody tr th {\n",
              "        vertical-align: top;\n",
              "    }\n",
              "\n",
              "    .dataframe thead th {\n",
              "        text-align: right;\n",
              "    }\n",
              "</style>\n",
              "<table border=\"1\" class=\"dataframe\">\n",
              "  <thead>\n",
              "    <tr style=\"text-align: right;\">\n",
              "      <th></th>\n",
              "      <th>filename</th>\n",
              "    </tr>\n",
              "  </thead>\n",
              "  <tbody>\n",
              "    <tr>\n",
              "      <th>0</th>\n",
              "      <td>Image_1.jpg</td>\n",
              "    </tr>\n",
              "    <tr>\n",
              "      <th>1</th>\n",
              "      <td>Image_2.jpg</td>\n",
              "    </tr>\n",
              "    <tr>\n",
              "      <th>2</th>\n",
              "      <td>Image_3.jpg</td>\n",
              "    </tr>\n",
              "    <tr>\n",
              "      <th>3</th>\n",
              "      <td>Image_4.jpg</td>\n",
              "    </tr>\n",
              "    <tr>\n",
              "      <th>4</th>\n",
              "      <td>Image_5.jpg</td>\n",
              "    </tr>\n",
              "  </tbody>\n",
              "</table>\n",
              "</div>\n",
              "      <button class=\"colab-df-convert\" onclick=\"convertToInteractive('df-25f61767-e569-409c-b1ee-600f26c5e4df')\"\n",
              "              title=\"Convert this dataframe to an interactive table.\"\n",
              "              style=\"display:none;\">\n",
              "        \n",
              "  <svg xmlns=\"http://www.w3.org/2000/svg\" height=\"24px\"viewBox=\"0 0 24 24\"\n",
              "       width=\"24px\">\n",
              "    <path d=\"M0 0h24v24H0V0z\" fill=\"none\"/>\n",
              "    <path d=\"M18.56 5.44l.94 2.06.94-2.06 2.06-.94-2.06-.94-.94-2.06-.94 2.06-2.06.94zm-11 1L8.5 8.5l.94-2.06 2.06-.94-2.06-.94L8.5 2.5l-.94 2.06-2.06.94zm10 10l.94 2.06.94-2.06 2.06-.94-2.06-.94-.94-2.06-.94 2.06-2.06.94z\"/><path d=\"M17.41 7.96l-1.37-1.37c-.4-.4-.92-.59-1.43-.59-.52 0-1.04.2-1.43.59L10.3 9.45l-7.72 7.72c-.78.78-.78 2.05 0 2.83L4 21.41c.39.39.9.59 1.41.59.51 0 1.02-.2 1.41-.59l7.78-7.78 2.81-2.81c.8-.78.8-2.07 0-2.86zM5.41 20L4 18.59l7.72-7.72 1.47 1.35L5.41 20z\"/>\n",
              "  </svg>\n",
              "      </button>\n",
              "      \n",
              "  <style>\n",
              "    .colab-df-container {\n",
              "      display:flex;\n",
              "      flex-wrap:wrap;\n",
              "      gap: 12px;\n",
              "    }\n",
              "\n",
              "    .colab-df-convert {\n",
              "      background-color: #E8F0FE;\n",
              "      border: none;\n",
              "      border-radius: 50%;\n",
              "      cursor: pointer;\n",
              "      display: none;\n",
              "      fill: #1967D2;\n",
              "      height: 32px;\n",
              "      padding: 0 0 0 0;\n",
              "      width: 32px;\n",
              "    }\n",
              "\n",
              "    .colab-df-convert:hover {\n",
              "      background-color: #E2EBFA;\n",
              "      box-shadow: 0px 1px 2px rgba(60, 64, 67, 0.3), 0px 1px 3px 1px rgba(60, 64, 67, 0.15);\n",
              "      fill: #174EA6;\n",
              "    }\n",
              "\n",
              "    [theme=dark] .colab-df-convert {\n",
              "      background-color: #3B4455;\n",
              "      fill: #D2E3FC;\n",
              "    }\n",
              "\n",
              "    [theme=dark] .colab-df-convert:hover {\n",
              "      background-color: #434B5C;\n",
              "      box-shadow: 0px 1px 3px 1px rgba(0, 0, 0, 0.15);\n",
              "      filter: drop-shadow(0px 1px 2px rgba(0, 0, 0, 0.3));\n",
              "      fill: #FFFFFF;\n",
              "    }\n",
              "  </style>\n",
              "\n",
              "      <script>\n",
              "        const buttonEl =\n",
              "          document.querySelector('#df-25f61767-e569-409c-b1ee-600f26c5e4df button.colab-df-convert');\n",
              "        buttonEl.style.display =\n",
              "          google.colab.kernel.accessAllowed ? 'block' : 'none';\n",
              "\n",
              "        async function convertToInteractive(key) {\n",
              "          const element = document.querySelector('#df-25f61767-e569-409c-b1ee-600f26c5e4df');\n",
              "          const dataTable =\n",
              "            await google.colab.kernel.invokeFunction('convertToInteractive',\n",
              "                                                     [key], {});\n",
              "          if (!dataTable) return;\n",
              "\n",
              "          const docLinkHtml = 'Like what you see? Visit the ' +\n",
              "            '<a target=\"_blank\" href=https://colab.research.google.com/notebooks/data_table.ipynb>data table notebook</a>'\n",
              "            + ' to learn more about interactive tables.';\n",
              "          element.innerHTML = '';\n",
              "          dataTable['output_type'] = 'display_data';\n",
              "          await google.colab.output.renderOutput(dataTable, element);\n",
              "          const docLink = document.createElement('div');\n",
              "          docLink.innerHTML = docLinkHtml;\n",
              "          element.appendChild(docLink);\n",
              "        }\n",
              "      </script>\n",
              "    </div>\n",
              "  </div>\n",
              "  "
            ]
          },
          "metadata": {},
          "execution_count": 38
        }
      ]
    },
    {
      "cell_type": "markdown",
      "source": [
        "Initialize Keras’ ImageDataGenerator class\n"
      ],
      "metadata": {
        "id": "YctYnn8H2X1q"
      }
    },
    {
      "cell_type": "code",
      "source": [
        "train_datagen = ImageDataGenerator(\n",
        "    rescale=1 / 255.0,\n",
        "    rotation_range=20,\n",
        "    zoom_range=0.05,\n",
        "    width_shift_range=0.05,\n",
        "    height_shift_range=0.05,\n",
        "    shear_range=0.05,\n",
        "    horizontal_flip=True,\n",
        "    fill_mode=\"nearest\",\n",
        "    validation_split=0.1,\n",
        ")  # Here is my train_test_split\n",
        "\n",
        "test_datagen = ImageDataGenerator(rescale=1 / 255.0)\n"
      ],
      "metadata": {
        "id": "NZ7sU-252el9"
      },
      "execution_count": 39,
      "outputs": []
    },
    {
      "cell_type": "markdown",
      "source": [
        "Initialize our training generator\n"
      ],
      "metadata": {
        "id": "qzoMpCM32hRK"
      }
    },
    {
      "cell_type": "code",
      "source": [
        "batch_size = 20  # Here is my batch size for hyperparameter tuning\n",
        "train_generator = train_datagen.flow_from_dataframe(\n",
        "    dataframe=train_df,\n",
        "    directory=train_path,\n",
        "    x_col=\"filename\",\n",
        "    y_col=\"target\",\n",
        "    target_size=(100, 100),\n",
        "    batch_size=batch_size,\n",
        "    class_mode=\"binary\",\n",
        "    subset=\"training\",\n",
        "    shuffle=True,\n",
        "    seed=42,\n",
        ")\n"
      ],
      "metadata": {
        "colab": {
          "base_uri": "https://localhost:8080/"
        },
        "id": "HQjVExCU_h3u",
        "outputId": "011ab5bc-9f07-4083-9803-63b822446903"
      },
      "execution_count": 40,
      "outputs": [
        {
          "output_type": "stream",
          "name": "stdout",
          "text": [
            "Found 8298 validated image filenames belonging to 2 classes.\n"
          ]
        }
      ]
    },
    {
      "cell_type": "markdown",
      "source": [
        "Initialize our validation generator\n"
      ],
      "metadata": {
        "id": "9ZwpADCM_qxV"
      }
    },
    {
      "cell_type": "code",
      "source": [
        "valid_generator = train_datagen.flow_from_dataframe(\n",
        "    dataframe=train_df,\n",
        "    directory=train_path,\n",
        "    x_col=\"filename\",\n",
        "    y_col=\"target\",\n",
        "    target_size=(100, 100),\n",
        "    batch_size=batch_size,\n",
        "    class_mode=\"binary\",\n",
        "    subset=\"validation\",\n",
        "    shuffle=True,\n",
        "    seed=42,\n",
        ")\n"
      ],
      "metadata": {
        "colab": {
          "base_uri": "https://localhost:8080/"
        },
        "id": "Kqo8_d_a_v-r",
        "outputId": "83c62688-fca6-4933-aaeb-d0e5f3ee9952"
      },
      "execution_count": 41,
      "outputs": [
        {
          "output_type": "stream",
          "name": "stdout",
          "text": [
            "Found 922 validated image filenames belonging to 2 classes.\n"
          ]
        }
      ]
    },
    {
      "cell_type": "markdown",
      "source": [
        "Initialize our testing generator\n"
      ],
      "metadata": {
        "id": "gVk-g4HN_w4Q"
      }
    },
    {
      "cell_type": "code",
      "source": [
        "test_generator = test_datagen.flow_from_dataframe(\n",
        "    dataframe=test_df,\n",
        "    directory=test_path,\n",
        "    x_col=\"filename\",\n",
        "    target_size=(100, 100),\n",
        "    batch_size=1,\n",
        "    class_mode=None,\n",
        "    shuffle=False,\n",
        ")\n"
      ],
      "metadata": {
        "colab": {
          "base_uri": "https://localhost:8080/"
        },
        "id": "b0Bm3uT52tTM",
        "outputId": "7b2eefc2-09aa-4b56-9235-e17ff18639db"
      },
      "execution_count": 42,
      "outputs": [
        {
          "output_type": "stream",
          "name": "stdout",
          "text": [
            "Found 2305 validated image filenames.\n"
          ]
        }
      ]
    },
    {
      "cell_type": "markdown",
      "source": [
        "Now we will use a pretrained model Xception from Keras library\n"
      ],
      "metadata": {
        "id": "Jd7MCBjs2ywq"
      }
    },
    {
      "cell_type": "code",
      "source": [
        "pretrained_model = keras.applications.Xception(\n",
        "    include_top=False,\n",
        "    weights=\"imagenet\",\n",
        "    input_shape=(100, 100, 3),\n",
        "    pooling=None,\n",
        "    classes=2,\n",
        "    classifier_activation=\"sigmoid\",\n",
        ")\n"
      ],
      "metadata": {
        "id": "QGxU0BLe24a2"
      },
      "execution_count": 43,
      "outputs": []
    },
    {
      "cell_type": "markdown",
      "source": [
        "Initialize a Sequential model, freeze the pretrained model layers\n"
      ],
      "metadata": {
        "id": "JCbxzXP228zn"
      }
    },
    {
      "cell_type": "code",
      "source": [
        "model = Sequential()\n",
        "for layer in pretrained_model.layers:\n",
        "  layer.trainable=False\n",
        "  "
      ],
      "metadata": {
        "id": "a6gP0zDy27r0"
      },
      "execution_count": 44,
      "outputs": []
    },
    {
      "cell_type": "markdown",
      "source": [
        "Now add the pretrained model, flatten the output, add one additional hidden fully connected layer, and the last output layer to classify only 2 categories for our male and female\n"
      ],
      "metadata": {
        "id": "ZKFljnl63GTj"
      }
    },
    {
      "cell_type": "code",
      "source": [
        "model.add(pretrained_model)\n",
        "model.add(Flatten())\n",
        "model.add(Dense(2048, activation='relu'))\n",
        "model.add(Dense(2, activation='sigmoid'))\n",
        "\n",
        "# Check the summary of the model\n",
        "model.summary()\n"
      ],
      "metadata": {
        "colab": {
          "base_uri": "https://localhost:8080/"
        },
        "id": "OvJWM29O3Lvb",
        "outputId": "72c95e8e-dcac-4819-b180-0aa36e14b1e8"
      },
      "execution_count": 45,
      "outputs": [
        {
          "output_type": "stream",
          "name": "stdout",
          "text": [
            "Model: \"sequential_1\"\n",
            "_________________________________________________________________\n",
            " Layer (type)                Output Shape              Param #   \n",
            "=================================================================\n",
            " xception (Functional)       (None, 3, 3, 2048)        20861480  \n",
            "                                                                 \n",
            " flatten_1 (Flatten)         (None, 18432)             0         \n",
            "                                                                 \n",
            " dense_2 (Dense)             (None, 2048)              37750784  \n",
            "                                                                 \n",
            " dense_3 (Dense)             (None, 2)                 4098      \n",
            "                                                                 \n",
            "=================================================================\n",
            "Total params: 58,616,362\n",
            "Trainable params: 37,754,882\n",
            "Non-trainable params: 20,861,480\n",
            "_________________________________________________________________\n"
          ]
        }
      ]
    },
    {
      "cell_type": "markdown",
      "source": [
        "Compile the new model\n"
      ],
      "metadata": {
        "id": "S-j9nR4F3a8l"
      }
    },
    {
      "cell_type": "code",
      "source": [
        "model.compile(\n",
        "    optimizer=Adam(learning_rate=0.0001),\n",
        "    loss=\"sparse_categorical_crossentropy\",\n",
        "    metrics=[\"accuracy\"],\n",
        ")"
      ],
      "metadata": {
        "id": "BP-xmiJ93aQW"
      },
      "execution_count": 46,
      "outputs": []
    },
    {
      "cell_type": "markdown",
      "source": [
        "Fit the model on the training dataset and check with the validation set\n"
      ],
      "metadata": {
        "id": "tRLxeOq93iQZ"
      }
    },
    {
      "cell_type": "code",
      "source": [
        "history = model.fit(\n",
        "    train_generator,\n",
        "    validation_data=valid_generator,\n",
        "    steps_per_epoch=train_generator.n // train_generator.batch_size,\n",
        "    validation_steps=valid_generator.n // valid_generator.batch_size,\n",
        "    epochs=10,\n",
        ")\n"
      ],
      "metadata": {
        "colab": {
          "base_uri": "https://localhost:8080/"
        },
        "id": "-F3wHkTW3p8Y",
        "outputId": "08b529d2-26b2-4e69-8993-e18625286a6d"
      },
      "execution_count": 47,
      "outputs": [
        {
          "output_type": "stream",
          "name": "stdout",
          "text": [
            "Epoch 1/10\n",
            "414/414 [==============================] - 31s 69ms/step - loss: 0.4214 - accuracy: 0.8327 - val_loss: 0.3590 - val_accuracy: 0.8446\n",
            "Epoch 2/10\n",
            "414/414 [==============================] - 28s 67ms/step - loss: 0.3305 - accuracy: 0.8582 - val_loss: 0.3252 - val_accuracy: 0.8761\n",
            "Epoch 3/10\n",
            "414/414 [==============================] - 27s 66ms/step - loss: 0.3110 - accuracy: 0.8694 - val_loss: 0.2873 - val_accuracy: 0.8837\n",
            "Epoch 4/10\n",
            "414/414 [==============================] - 27s 66ms/step - loss: 0.2917 - accuracy: 0.8753 - val_loss: 0.2901 - val_accuracy: 0.8880\n",
            "Epoch 5/10\n",
            "414/414 [==============================] - 27s 66ms/step - loss: 0.2795 - accuracy: 0.8840 - val_loss: 0.2586 - val_accuracy: 0.8837\n",
            "Epoch 6/10\n",
            "414/414 [==============================] - 27s 66ms/step - loss: 0.2719 - accuracy: 0.8845 - val_loss: 0.2712 - val_accuracy: 0.8870\n",
            "Epoch 7/10\n",
            "414/414 [==============================] - 28s 66ms/step - loss: 0.2662 - accuracy: 0.8899 - val_loss: 0.3035 - val_accuracy: 0.8772\n",
            "Epoch 8/10\n",
            "414/414 [==============================] - 27s 66ms/step - loss: 0.2649 - accuracy: 0.8868 - val_loss: 0.2485 - val_accuracy: 0.9033\n",
            "Epoch 9/10\n",
            "414/414 [==============================] - 28s 68ms/step - loss: 0.2511 - accuracy: 0.8945 - val_loss: 0.2861 - val_accuracy: 0.8848\n",
            "Epoch 10/10\n",
            "414/414 [==============================] - 28s 66ms/step - loss: 0.2579 - accuracy: 0.8892 - val_loss: 0.2469 - val_accuracy: 0.9065\n"
          ]
        }
      ]
    },
    {
      "cell_type": "markdown",
      "source": [
        "Evaluate our model performance\n"
      ],
      "metadata": {
        "id": "dy_lr8Ue4DS_"
      }
    },
    {
      "cell_type": "code",
      "source": [
        "score = model.evaluate(valid_generator)\n",
        "print('Test loss:', score[0])\n",
        "print('Test accuracy:', score[1])\n"
      ],
      "metadata": {
        "colab": {
          "base_uri": "https://localhost:8080/"
        },
        "id": "9T7iQXe04Hp8",
        "outputId": "68480bfa-5cfc-4063-b9ea-aa9106ad681c"
      },
      "execution_count": 48,
      "outputs": [
        {
          "output_type": "stream",
          "name": "stdout",
          "text": [
            "47/47 [==============================] - 3s 57ms/step - loss: 0.2641 - accuracy: 0.8937\n",
            "Test loss: 0.26405876874923706\n",
            "Test accuracy: 0.8937093019485474\n"
          ]
        }
      ]
    },
    {
      "cell_type": "markdown",
      "source": [
        "Plot the training and validation accuracy and losses "
      ],
      "metadata": {
        "id": "8VpWoVu7Ri9F"
      }
    },
    {
      "cell_type": "code",
      "source": [
        "plt.plot(history.history['accuracy'])\n",
        "plt.plot(history.history['val_accuracy'])\n",
        "plt.title('Training and Validation Acuracy')\n",
        "plt.ylabel('accuracy')\n",
        "plt.xlabel('epoch')\n",
        "plt.legend(['train', 'val'], loc='best')\n",
        "plt.show()\n"
      ],
      "metadata": {
        "colab": {
          "base_uri": "https://localhost:8080/",
          "height": 295
        },
        "id": "G2uBnp3oRgc_",
        "outputId": "0defc556-010f-4c34-8276-5c11b8340a33"
      },
      "execution_count": 49,
      "outputs": [
        {
          "output_type": "display_data",
          "data": {
            "text/plain": [
              "<Figure size 432x288 with 1 Axes>"
            ],
            "image/png": "[encoded data removed]"
          },
          "metadata": {
            "needs_background": "light"
          }
        }
      ]
    },
    {
      "cell_type": "markdown",
      "source": [
        "Plot the training and validation losses\n"
      ],
      "metadata": {
        "id": "LuQeQqru3zCa"
      }
    },
    {
      "cell_type": "code",
      "source": [
        "data = history.history\n",
        "y1 = data['loss']\n",
        "y2 = data['val_loss']\n",
        "x = [i for i in range(len(y1))]\n",
        "plt.plot(x, y1, 'b-', label='Train Loss')\n",
        "plt.plot(x, y2, 'r--', label='Val Loss')\n",
        "plt.title('Training Loss vs Validation Loss')\n",
        "plt.legend()\n",
        "plt.show()\n"
      ],
      "metadata": {
        "colab": {
          "base_uri": "https://localhost:8080/",
          "height": 281
        },
        "id": "C3z9WIIb33f_",
        "outputId": "e6f7b6f6-11eb-4124-d9ea-962ba98dd3ca"
      },
      "execution_count": 50,
      "outputs": [
        {
          "output_type": "display_data",
          "data": {
            "text/plain": [
              "<Figure size 432x288 with 1 Axes>"
            ],
            "image/png": "[encoded data removed]"
          },
          "metadata": {
            "needs_background": "light"
          }
        }
      ]
    },
    {
      "cell_type": "markdown",
      "source": [
        "Plot the training and validation accuracy\n"
      ],
      "metadata": {
        "id": "DuAckCVF376c"
      }
    },
    {
      "cell_type": "code",
      "source": [
        "y1 = data['accuracy']\n",
        "y2 = data['val_accuracy']\n",
        "x = [i for i in range(len(y1))]\n",
        "plt.plot(x, y1, 'b-', label='Train Accuracy')\n",
        "plt.plot(x, y2, 'r--', label='Val Accuracy')\n",
        "plt.title('Training Accuracy vs Validation Accuracy')\n",
        "plt.legend()\n",
        "plt.show()\n"
      ],
      "metadata": {
        "colab": {
          "base_uri": "https://localhost:8080/",
          "height": 281
        },
        "id": "ykwjEge23_8o",
        "outputId": "13014fea-ae7e-4f0a-b0bd-a740edc0112c"
      },
      "execution_count": 51,
      "outputs": [
        {
          "output_type": "display_data",
          "data": {
            "text/plain": [
              "<Figure size 432x288 with 1 Axes>"
            ],
            "image/png": "[encoded data removed]"
          },
          "metadata": {
            "needs_background": "light"
          }
        }
      ]
    },
    {
      "cell_type": "markdown",
      "source": [
        "Make predictions on test data using predict from Keras\n"
      ],
      "metadata": {
        "id": "CEgsWSHn4MGY"
      }
    },
    {
      "cell_type": "code",
      "source": [
        "preds = model.predict(test_generator, steps = len(test_generator.filenames))\n",
        "# predict returns the class probability of each class. \n",
        "# print the prediction of the first 5 test data\n",
        "preds[:5]\n"
      ],
      "metadata": {
        "colab": {
          "base_uri": "https://localhost:8080/"
        },
        "id": "x1ldg8ml4O7_",
        "outputId": "10815ceb-fbc0-4e53-ad60-d16615bcc834"
      },
      "execution_count": 52,
      "outputs": [
        {
          "output_type": "stream",
          "name": "stdout",
          "text": [
            "2305/2305 [==============================] - 17s 7ms/step\n"
          ]
        },
        {
          "output_type": "execute_result",
          "data": {
            "text/plain": [
              "array([[0.03161548, 0.9669356 ],\n",
              "       [0.23605067, 0.5598293 ],\n",
              "       [0.05991425, 0.8886364 ],\n",
              "       [0.37375662, 0.6896473 ],\n",
              "       [0.09842165, 0.8537844 ]], dtype=float32)"
            ]
          },
          "metadata": {},
          "execution_count": 52
        }
      ]
    },
    {
      "cell_type": "markdown",
      "source": [
        "Predict the class label\n"
      ],
      "metadata": {
        "id": "R6ax185m4aOJ"
      }
    },
    {
      "cell_type": "code",
      "source": [
        "preds = preds.argmax(axis=-1)\n",
        "preds"
      ],
      "metadata": {
        "colab": {
          "base_uri": "https://localhost:8080/"
        },
        "id": "kyz5J-9_4eL-",
        "outputId": "70f50f8c-cb60-43a5-9b5c-f2e48f96e63e"
      },
      "execution_count": 53,
      "outputs": [
        {
          "output_type": "execute_result",
          "data": {
            "text/plain": [
              "array([1, 1, 1, ..., 1, 1, 1])"
            ]
          },
          "metadata": {},
          "execution_count": 53
        }
      ]
    },
    {
      "cell_type": "markdown",
      "source": [
        "Add the predictions to a dataframe\n"
      ],
      "metadata": {
        "id": "vjLY7nUU4in7"
      }
    },
    {
      "cell_type": "code",
      "source": [
        "# Create Dataframe of predicted value with particular respective index\n",
        "submission = pd.DataFrame(preds) \n",
        "submission.columns = [\"label\"] # names the column\n",
        "# add label names to test dataframe\n",
        "submission['target'] = submission.label.replace({0: 'female', 1: 'male'})\n",
        "# drop the label column from the test_df data\n",
        "submission = submission.drop('label', axis=1)\n",
        "# change the name of the target column to label as recommended for submission\n",
        "submission = submission.rename(columns={'target':'label'})\n",
        "\n"
      ],
      "metadata": {
        "id": "qHT6gg4Okbyu"
      },
      "execution_count": 54,
      "outputs": []
    },
    {
      "cell_type": "markdown",
      "source": [
        "Prepare a submission File"
      ],
      "metadata": {
        "id": "DrTiccq441nT"
      }
    },
    {
      "cell_type": "code",
      "source": [
        "# convert the submission_df to a csv file\n",
        "submission.to_csv('submission.csv', index=False)\n",
        "# check the first five rows to see how it looks\n",
        "submission.head(5)\n"
      ],
      "metadata": {
        "colab": {
          "base_uri": "https://localhost:8080/",
          "height": 206
        },
        "id": "Q8Bcd2BpM1fq",
        "outputId": "7c5ee5df-e6a8-4d86-9f4f-33a67f6a551d"
      },
      "execution_count": 55,
      "outputs": [
        {
          "output_type": "execute_result",
          "data": {
            "text/plain": [
              "  label\n",
              "0  male\n",
              "1  male\n",
              "2  male\n",
              "3  male\n",
              "4  male"
            ],
            "text/html": [
              "\n",
              "  <div id=\"df-b788828e-3f90-47b0-b5e4-0f04cb0ba424\">\n",
              "    <div class=\"colab-df-container\">\n",
              "      <div>\n",
              "<style scoped>\n",
              "    .dataframe tbody tr th:only-of-type {\n",
              "        vertical-align: middle;\n",
              "    }\n",
              "\n",
              "    .dataframe tbody tr th {\n",
              "        vertical-align: top;\n",
              "    }\n",
              "\n",
              "    .dataframe thead th {\n",
              "        text-align: right;\n",
              "    }\n",
              "</style>\n",
              "<table border=\"1\" class=\"dataframe\">\n",
              "  <thead>\n",
              "    <tr style=\"text-align: right;\">\n",
              "      <th></th>\n",
              "      <th>label</th>\n",
              "    </tr>\n",
              "  </thead>\n",
              "  <tbody>\n",
              "    <tr>\n",
              "      <th>0</th>\n",
              "      <td>male</td>\n",
              "    </tr>\n",
              "    <tr>\n",
              "      <th>1</th>\n",
              "      <td>male</td>\n",
              "    </tr>\n",
              "    <tr>\n",
              "      <th>2</th>\n",
              "      <td>male</td>\n",
              "    </tr>\n",
              "    <tr>\n",
              "      <th>3</th>\n",
              "      <td>male</td>\n",
              "    </tr>\n",
              "    <tr>\n",
              "      <th>4</th>\n",
              "      <td>male</td>\n",
              "    </tr>\n",
              "  </tbody>\n",
              "</table>\n",
              "</div>\n",
              "      <button class=\"colab-df-convert\" onclick=\"convertToInteractive('df-b788828e-3f90-47b0-b5e4-0f04cb0ba424')\"\n",
              "              title=\"Convert this dataframe to an interactive table.\"\n",
              "              style=\"display:none;\">\n",
              "        \n",
              "  <svg xmlns=\"http://www.w3.org/2000/svg\" height=\"24px\"viewBox=\"0 0 24 24\"\n",
              "       width=\"24px\">\n",
              "    <path d=\"M0 0h24v24H0V0z\" fill=\"none\"/>\n",
              "    <path d=\"M18.56 5.44l.94 2.06.94-2.06 2.06-.94-2.06-.94-.94-2.06-.94 2.06-2.06.94zm-11 1L8.5 8.5l.94-2.06 2.06-.94-2.06-.94L8.5 2.5l-.94 2.06-2.06.94zm10 10l.94 2.06.94-2.06 2.06-.94-2.06-.94-.94-2.06-.94 2.06-2.06.94z\"/><path d=\"M17.41 7.96l-1.37-1.37c-.4-.4-.92-.59-1.43-.59-.52 0-1.04.2-1.43.59L10.3 9.45l-7.72 7.72c-.78.78-.78 2.05 0 2.83L4 21.41c.39.39.9.59 1.41.59.51 0 1.02-.2 1.41-.59l7.78-7.78 2.81-2.81c.8-.78.8-2.07 0-2.86zM5.41 20L4 18.59l7.72-7.72 1.47 1.35L5.41 20z\"/>\n",
              "  </svg>\n",
              "      </button>\n",
              "      \n",
              "  <style>\n",
              "    .colab-df-container {\n",
              "      display:flex;\n",
              "      flex-wrap:wrap;\n",
              "      gap: 12px;\n",
              "    }\n",
              "\n",
              "    .colab-df-convert {\n",
              "      background-color: #E8F0FE;\n",
              "      border: none;\n",
              "      border-radius: 50%;\n",
              "      cursor: pointer;\n",
              "      display: none;\n",
              "      fill: #1967D2;\n",
              "      height: 32px;\n",
              "      padding: 0 0 0 0;\n",
              "      width: 32px;\n",
              "    }\n",
              "\n",
              "    .colab-df-convert:hover {\n",
              "      background-color: #E2EBFA;\n",
              "      box-shadow: 0px 1px 2px rgba(60, 64, 67, 0.3), 0px 1px 3px 1px rgba(60, 64, 67, 0.15);\n",
              "      fill: #174EA6;\n",
              "    }\n",
              "\n",
              "    [theme=dark] .colab-df-convert {\n",
              "      background-color: #3B4455;\n",
              "      fill: #D2E3FC;\n",
              "    }\n",
              "\n",
              "    [theme=dark] .colab-df-convert:hover {\n",
              "      background-color: #434B5C;\n",
              "      box-shadow: 0px 1px 3px 1px rgba(0, 0, 0, 0.15);\n",
              "      filter: drop-shadow(0px 1px 2px rgba(0, 0, 0, 0.3));\n",
              "      fill: #FFFFFF;\n",
              "    }\n",
              "  </style>\n",
              "\n",
              "      <script>\n",
              "        const buttonEl =\n",
              "          document.querySelector('#df-b788828e-3f90-47b0-b5e4-0f04cb0ba424 button.colab-df-convert');\n",
              "        buttonEl.style.display =\n",
              "          google.colab.kernel.accessAllowed ? 'block' : 'none';\n",
              "\n",
              "        async function convertToInteractive(key) {\n",
              "          const element = document.querySelector('#df-b788828e-3f90-47b0-b5e4-0f04cb0ba424');\n",
              "          const dataTable =\n",
              "            await google.colab.kernel.invokeFunction('convertToInteractive',\n",
              "                                                     [key], {});\n",
              "          if (!dataTable) return;\n",
              "\n",
              "          const docLinkHtml = 'Like what you see? Visit the ' +\n",
              "            '<a target=\"_blank\" href=https://colab.research.google.com/notebooks/data_table.ipynb>data table notebook</a>'\n",
              "            + ' to learn more about interactive tables.';\n",
              "          element.innerHTML = '';\n",
              "          dataTable['output_type'] = 'display_data';\n",
              "          await google.colab.output.renderOutput(dataTable, element);\n",
              "          const docLink = document.createElement('div');\n",
              "          docLink.innerHTML = docLinkHtml;\n",
              "          element.appendChild(docLink);\n",
              "        }\n",
              "      </script>\n",
              "    </div>\n",
              "  </div>\n",
              "  "
            ]
          },
          "metadata": {},
          "execution_count": 55
        }
      ]
    },
    {
      "cell_type": "markdown",
      "source": [
        "Check the submission file before uploading to competition\n"
      ],
      "metadata": {
        "id": "xr23E3Rc5Ioh"
      }
    },
    {
      "cell_type": "code",
      "source": [
        "!head submission.csv\n"
      ],
      "metadata": {
        "colab": {
          "base_uri": "https://localhost:8080/"
        },
        "id": "nZBaEqSgwuzA",
        "outputId": "7bd1cc11-5ee4-4d28-ca4e-93e2cb9e206f"
      },
      "execution_count": 56,
      "outputs": [
        {
          "output_type": "stream",
          "name": "stdout",
          "text": [
            "label\n",
            "male\n",
            "male\n",
            "male\n",
            "male\n",
            "male\n",
            "male\n",
            "female\n",
            "male\n",
            "male\n"
          ]
        }
      ]
    }
  ]
}